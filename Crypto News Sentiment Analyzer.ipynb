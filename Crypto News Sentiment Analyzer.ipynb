{
 "cells": [
  {
   "cell_type": "code",
   "execution_count": 1,
   "id": "34fc7725",
   "metadata": {},
   "outputs": [
    {
     "name": "stdout",
     "output_type": "stream",
     "text": [
      "                  date                                          sentiment  \\\n",
      "0  2023-12-19 06:40:41  {'class': 'negative', 'polarity': -0.1, 'subje...   \n",
      "1  2023-12-19 06:03:24  {'class': 'neutral', 'polarity': 0.0, 'subject...   \n",
      "2  2023-12-19 05:55:14  {'class': 'positive', 'polarity': 0.05, 'subje...   \n",
      "3  2023-12-19 05:35:26  {'class': 'positive', 'polarity': 0.5, 'subjec...   \n",
      "4  2023-12-19 05:31:08  {'class': 'neutral', 'polarity': 0.0, 'subject...   \n",
      "\n",
      "          source     subject  \\\n",
      "0     CryptoNews     altcoin   \n",
      "1     CryptoNews  blockchain   \n",
      "2     CryptoNews  blockchain   \n",
      "3  CoinTelegraph  blockchain   \n",
      "4  CoinTelegraph    ethereum   \n",
      "\n",
      "                                                text  \\\n",
      "0  Grayscale CEO Michael Sonnenshein believes the...   \n",
      "1  In an exclusive interview with CryptoNews, Man...   \n",
      "2  According to the Federal Court ruling on Decem...   \n",
      "3  Some suggest EVM inscriptions are the latest w...   \n",
      "4  A decision by bloXroute Labs to start censorin...   \n",
      "\n",
      "                                               title  \\\n",
      "0  Grayscale CEO Calls for Simultaneous Approval ...   \n",
      "1  Indian Government is Actively Collaborating Wi...   \n",
      "2  Judge Approves Settlement: Binance to Pay $1.5...   \n",
      "3  Why a gold rush for inscriptions has broken ha...   \n",
      "4  ‘Concerning precedent’ — bloXroute Labs' MEV r...   \n",
      "\n",
      "                                                 url  \n",
      "0  https://cryptonews.comhttps://cryptonews.com/n...  \n",
      "1  https://cryptonews.comhttps://cryptonews.com/n...  \n",
      "2  https://cryptonews.comhttps://cryptonews.com/n...  \n",
      "3  https://cointelegraph.com/news/inscriptions-ev...  \n",
      "4  https://cointelegraph.com/news/concerning-prec...  \n",
      "Index(['date', 'sentiment', 'source', 'subject', 'text', 'title', 'url'], dtype='object')\n"
     ]
    }
   ],
   "source": [
    "import pandas as pd\n",
    "\n",
    "# Load the dataset\n",
    "df = pd.read_csv(\"cryptonews.csv\")\n",
    "\n",
    "# Display sample rows and column names\n",
    "print(df.head())\n",
    "print(df.columns)\n"
   ]
  },
  {
   "cell_type": "code",
   "execution_count": 2,
   "id": "2bdc8f6d",
   "metadata": {},
   "outputs": [],
   "source": [
    "df.rename(columns={\"title\": \"headline\"}, inplace=True)\n"
   ]
  },
  {
   "cell_type": "code",
   "execution_count": 3,
   "id": "9913edac",
   "metadata": {},
   "outputs": [],
   "source": [
    "# Drop null values\n",
    "df = df.dropna(subset=['headline'])\n",
    "\n",
    "# Optional: lowercasing (FinBERT handles case, but it's up to you)\n",
    "df['headline'] = df['headline'].apply(str)\n"
   ]
  },
  {
   "cell_type": "code",
   "execution_count": 4,
   "id": "825ebfa2",
   "metadata": {},
   "outputs": [
    {
     "name": "stderr",
     "output_type": "stream",
     "text": [
      "C:\\Users\\hafiz\\AppData\\Roaming\\Python\\Python310\\site-packages\\tqdm\\auto.py:21: TqdmWarning: IProgress not found. Please update jupyter and ipywidgets. See https://ipywidgets.readthedocs.io/en/stable/user_install.html\n",
      "  from .autonotebook import tqdm as notebook_tqdm\n"
     ]
    }
   ],
   "source": [
    "from transformers import BertTokenizer, BertForSequenceClassification\n",
    "from transformers import pipeline\n",
    "\n",
    "# Load FinBERT from Hugging Face\n",
    "MODEL_NAME = \"yiyanghkust/finbert-tone\"\n",
    "\n",
    "tokenizer = BertTokenizer.from_pretrained(MODEL_NAME)\n",
    "model = BertForSequenceClassification.from_pretrained(MODEL_NAME)\n"
   ]
  },
  {
   "cell_type": "code",
   "execution_count": 5,
   "id": "c220564c",
   "metadata": {},
   "outputs": [
    {
     "name": "stderr",
     "output_type": "stream",
     "text": [
      "Device set to use cpu\n",
      "c:\\Users\\hafiz\\AppData\\Local\\Programs\\Python\\Python310\\lib\\site-packages\\transformers\\pipelines\\text_classification.py:106: UserWarning: `return_all_scores` is now deprecated,  if want a similar functionality use `top_k=None` instead of `return_all_scores=True` or `top_k=1` instead of `return_all_scores=False`.\n",
      "  warnings.warn(\n"
     ]
    },
    {
     "name": "stdout",
     "output_type": "stream",
     "text": [
      "[[{'label': 'Neutral', 'score': 3.212903152416402e-07}, {'label': 'Positive', 'score': 0.9999992847442627}, {'label': 'Negative', 'score': 3.380513078354852e-07}]]\n"
     ]
    }
   ],
   "source": [
    "from transformers import TextClassificationPipeline\n",
    "\n",
    "classifier = TextClassificationPipeline(model=model, tokenizer=tokenizer, return_all_scores=True)\n",
    "\n",
    "# Example prediction\n",
    "example = \"Bitcoin surges after ETF approval\"\n",
    "print(classifier(example))\n"
   ]
  },
  {
   "cell_type": "code",
   "execution_count": 6,
   "id": "24e263b4",
   "metadata": {},
   "outputs": [],
   "source": [
    "def predict_sentiment(text):\n",
    "    result = classifier(text)[0]\n",
    "    label = max(result, key=lambda x: x['score'])['label']\n",
    "    return label\n",
    "\n",
    "df['sentiment'] = df['headline'].apply(predict_sentiment)\n"
   ]
  },
  {
   "cell_type": "code",
   "execution_count": 7,
   "id": "5afa76c2",
   "metadata": {},
   "outputs": [],
   "source": [
    "df.to_csv(\"crypto_news_sentiment1.csv\", index=False)\n"
   ]
  },
  {
   "cell_type": "code",
   "execution_count": null,
   "id": "ea483afa",
   "metadata": {},
   "outputs": [],
   "source": []
  }
 ],
 "metadata": {
  "kernelspec": {
   "display_name": "Python 3",
   "language": "python",
   "name": "python3"
  },
  "language_info": {
   "codemirror_mode": {
    "name": "ipython",
    "version": 3
   },
   "file_extension": ".py",
   "mimetype": "text/x-python",
   "name": "python",
   "nbconvert_exporter": "python",
   "pygments_lexer": "ipython3",
   "version": "3.10.0"
  }
 },
 "nbformat": 4,
 "nbformat_minor": 5
}
